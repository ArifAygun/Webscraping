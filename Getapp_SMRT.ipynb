{
  "cells": [
    {
      "cell_type": "markdown",
      "metadata": {
        "id": "view-in-github",
        "colab_type": "text"
      },
      "source": [
        "<a href=\"https://colab.research.google.com/github/ArifAygun/Webscraping/blob/main/Getapp_SMRT.ipynb\" target=\"_parent\"><img src=\"https://colab.research.google.com/assets/colab-badge.svg\" alt=\"Open In Colab\"/></a>"
      ]
    },
    {
      "cell_type": "code",
      "source": [
        "pip install prettify"
      ],
      "metadata": {
        "colab": {
          "base_uri": "https://localhost:8080/"
        },
        "id": "ozZM0r_28fbv",
        "outputId": "b0006722-f5ba-4d07-ca7d-c9752f8ade47"
      },
      "execution_count": 87,
      "outputs": [
        {
          "output_type": "stream",
          "name": "stdout",
          "text": [
            "Requirement already satisfied: prettify in /usr/local/lib/python3.10/dist-packages (0.1.1)\n"
          ]
        }
      ]
    },
    {
      "cell_type": "code",
      "execution_count": 88,
      "metadata": {
        "id": "shTk2fzax2gA",
        "colab": {
          "base_uri": "https://localhost:8080/"
        },
        "outputId": "096a3900-9c71-49db-8f05-0397ee550fca"
      },
      "outputs": [
        {
          "output_type": "stream",
          "name": "stdout",
          "text": [
            "Drive already mounted at /content/drive/; to attempt to forcibly remount, call drive.mount(\"/content/drive/\", force_remount=True).\n",
            "/content/drive/My Drive/Web_Scraping/SMRT\n"
          ]
        }
      ],
      "source": [
        "import pandas as pd\n",
        "from bs4 import BeautifulSoup\n",
        "import requests\n",
        "\n",
        "import lxml\n",
        "from lxml import etree\n",
        "from lxml import html\n",
        "from lxml.html.soupparser import fromstring\n",
        "\n",
        "import warnings\n",
        "warnings.filterwarnings(\"ignore\")\n",
        "\n",
        "import time\n",
        "import datetime\n",
        "import random\n",
        "\n",
        "from pprint import pprint\n",
        "import prettify\n",
        "\n",
        "from google.colab import drive\n",
        "drive.mount('/content/drive/')\n",
        "%cd /content/drive/My Drive/Web_Scraping/SMRT/\n"
      ]
    },
    {
      "cell_type": "markdown",
      "metadata": {
        "id": "rksAQrR58aOX"
      },
      "source": [
        "## Making a get request"
      ]
    },
    {
      "cell_type": "code",
      "source": [
        "url = 'https://www.getapp.com/retail-consumer-services-software/a/smrt-systems/reviews/'\n",
        "\n",
        "headers = {\n",
        "    'User-Agent': 'Mozilla/5.0 (Windows NT 10.0; Win64; x64) AppleWebKit/537.36 (KHTML, like Gecko) Chrome/94.0.4606.81 Safari/537.36'\n",
        "}\n",
        "\n",
        "response = requests.get(url, headers=headers)\n",
        "response"
      ],
      "metadata": {
        "id": "FKEkbCrnx7PV",
        "colab": {
          "base_uri": "https://localhost:8080/"
        },
        "outputId": "4ef47fe6-84f4-4e00-a2f6-e85a3bf2ed37"
      },
      "execution_count": 89,
      "outputs": [
        {
          "output_type": "execute_result",
          "data": {
            "text/plain": [
              "<Response [200]>"
            ]
          },
          "metadata": {},
          "execution_count": 89
        }
      ]
    },
    {
      "cell_type": "markdown",
      "metadata": {
        "id": "Wi5Kn4sN8aOb"
      },
      "source": [
        "## Making the soup"
      ]
    },
    {
      "cell_type": "code",
      "source": [
        "html = response.content\n",
        "pprint(html)"
      ],
      "metadata": {
        "colab": {
          "base_uri": "https://localhost:8080/"
        },
        "id": "pfe9Q9hg8KTk",
        "outputId": "070dbfb2-7e42-4bd4-9d5b-a565511a00a6"
      },
      "execution_count": 97,
      "outputs": [
        {
          "output_type": "stream",
          "name": "stdout",
          "text": [
            "(b'<!DOCTYPE html>\\n<!--[if lt IE 7]> <html class=\"no-js ie6 oldie\" lang=\"en'\n",
            " b'-US\"> <![endif]-->\\n<!--[if IE 7]>    <html class=\"no-js ie7 oldie\" lang='\n",
            " b'\"en-US\"> <![endif]-->\\n<!--[if IE 8]>    <html class=\"no-js ie8 oldie\" la'\n",
            " b'ng=\"en-US\"> <![endif]-->\\n<!--[if gt IE 8]><!--> <html class=\"no-js\" lang'\n",
            " b'=\"en-US\"> <!--<![endif]-->\\n<head>\\n<title>Attention Required! | Cloudflar'\n",
            " b'e</title>\\n<meta charset=\"UTF-8\" />\\n<meta http-equiv=\"Content-Type\" conte'\n",
            " b'nt=\"text/html; charset=UTF-8\" />\\n<meta http-equiv=\"X-UA-Compatible\" cont'\n",
            " b'ent=\"IE=Edge\" />\\n<meta name=\"robots\" content=\"noindex, nofollow\" />\\n<met'\n",
            " b'a name=\"viewport\" content=\"width=device-width,initial-scale=1\" />\\n<link '\n",
            " b'rel=\"stylesheet\" id=\"cf_styles-css\" href=\"/cdn-cgi/styles/cf.errors.css\"'\n",
            " b' />\\n<!--[if lt IE 9]><link rel=\"stylesheet\" id=\\'cf_styles-ie-css\\' href=\"'\n",
            " b'/cdn-cgi/styles/cf.errors.ie.css\" /><![endif]-->\\n<style>body{margin:0;pa'\n",
            " b'dding:0}</style>\\n\\n\\n<!--[if gte IE 10]><!-->\\n<script>\\n  if (!navigato'\n",
            " b\"r.cookieEnabled) {\\n    window.addEventListener('DOMContentLoaded', funct\"\n",
            " b\"ion () {\\n      var cookieEl = document.getElementById('cookie-alert');\\n \"\n",
            " b\"     cookieEl.style.display = 'block';\\n    })\\n  }\\n</script>\\n<!--<![endif\"\n",
            " b']-->\\n\\n\\n</head>\\n<body>\\n  <div id=\"cf-wrapper\">\\n    <div class=\"cf-ale'\n",
            " b'rt cf-alert-error cf-cookie-error\" id=\"cookie-alert\" data-translate=\"enable_'\n",
            " b'cookies\">Please enable cookies.</div>\\n    <div id=\"cf-error-details\" cla'\n",
            " b'ss=\"cf-error-details-wrapper\">\\n      <div class=\"cf-wrapper cf-header cf'\n",
            " b'-error-overview\">\\n        <h1 data-translate=\"block_headline\">Sorry, you'\n",
            " b' have been blocked</h1>\\n        <h2 class=\"cf-subheadline\"><span data-tr'\n",
            " b'anslate=\"unable_to_access\">You are unable to access</span> getapp.com</h'\n",
            " b'2>\\n      </div><!-- /.header -->\\n\\n      <div class=\"cf-section cf-highli'\n",
            " b'ght\">\\n        <div class=\"cf-wrapper\">\\n          <div class=\"cf-screensh'\n",
            " b'ot-container cf-screenshot-full\">\\n            \\n              <span class'\n",
            " b'=\"cf-no-screenshot error\"></span>\\n            \\n          </div>\\n        '\n",
            " b'</div>\\n      </div><!-- /.captcha-container -->\\n\\n      <div class=\"cf-se'\n",
            " b'ction cf-wrapper\">\\n        <div class=\"cf-columns two\">\\n          <div c'\n",
            " b'lass=\"cf-column\">\\n            <h2 data-translate=\"blocked_why_headline\">'\n",
            " b'Why have I been blocked?</h2>\\n\\n            <p data-translate=\"blocked_wh'\n",
            " b'y_detail\">This website is using a security service to protect itself from on'\n",
            " b'line attacks. The action you just performed triggered the security solution.'\n",
            " b' There are several actions that could trigger this block including submittin'\n",
            " b'g a certain word or phrase, a SQL command or malformed data.</p>\\n       '\n",
            " b'   </div>\\n\\n          <div class=\"cf-column\">\\n            <h2 data-transl'\n",
            " b'ate=\"blocked_resolve_headline\">What can I do to resolve this?</h2>\\n\\n    '\n",
            " b'        <p data-translate=\"blocked_resolve_detail\">You can email the site ow'\n",
            " b'ner to let them know you were blocked. Please include what you were doing wh'\n",
            " b'en this page came up and the Cloudflare Ray ID found at the bottom of this p'\n",
            " b'age.</p>\\n          </div>\\n        </div>\\n      </div><!-- /.section -->\\n'\n",
            " b'\\n      <div class=\"cf-error-footer cf-wrapper w-240 lg:w-full py-10 sm:p'\n",
            " b'y-4 sm:px-8 mx-auto text-center sm:text-left border-solid border-0 border-t '\n",
            " b'border-gray-300\">\\n  <p class=\"text-13\">\\n    <span class=\"cf-footer-item '\n",
            " b'sm:block sm:mb-1\">Cloudflare Ray ID: <strong class=\"font-semibold\">805347f0c'\n",
            " b'ff57d1b</strong></span>\\n    <span class=\"cf-footer-separator sm:hidden\">'\n",
            " b'&bull;</span>\\n    <span id=\"cf-footer-item-ip\" class=\"cf-footer-item hid'\n",
            " b'den sm:block sm:mb-1\">\\n      Your IP:\\n      <button type=\"button\" id=\"cf'\n",
            " b'-footer-ip-reveal\" class=\"cf-footer-ip-reveal-btn\">Click to reveal</butt'\n",
            " b'on>\\n      <span class=\"hidden\" id=\"cf-footer-ip\">34.125.161.246</span>\\n '\n",
            " b'     <span class=\"cf-footer-separator sm:hidden\">&bull;</span>\\n    </spa'\n",
            " b'n>\\n    <span class=\"cf-footer-item sm:block sm:mb-1\"><span>Performance &'\n",
            " b'amp; security by</span> <a rel=\"noopener noreferrer\" href=\"https://www.cloud'\n",
            " b'flare.com/5xx-error-landing\" id=\"brand_link\" target=\"_blank\">Cloudflare</a><'\n",
            " b'/span>\\n    \\n  </p>\\n  <script>(function(){function d(){var b=a.getElement'\n",
            " b'ById(\"cf-footer-item-ip\"),c=a.getElementById(\"cf-footer-ip-reveal\");b&&\"clas'\n",
            " b'sList\"in b&&(b.classList.remove(\"hidden\"),c.addEventListener(\"click\",functio'\n",
            " b'n(){c.classList.add(\"hidden\");a.getElementById(\"cf-footer-ip\").classList.rem'\n",
            " b'ove(\"hidden\")}))}var a=document;document.addEventListener&&a.addEventListene'\n",
            " b'r(\"DOMContentLoaded\",d)})();</script>\\n</div><!-- /.error-footer -->\\n\\n\\n  '\n",
            " b'  </div><!-- /#cf-error-details -->\\n  </div><!-- /#cf-wrapper -->\\n\\n  <sc'\n",
            " b'ript>\\n  window._cf_translation = {};\\n  \\n  \\n</script>\\n\\n<script>(funct'\n",
            " b'ion(){var js = \"window[\\'__CF$cv$params\\']={r:\\'805347f0cff57d1b\\',t:\\'MT'\n",
            " b\"Y5NDQ3MDY0OC40NDMwMDA='};_cpo=document.createElement('script');_cpo.nonce=''\"\n",
            " b\",_cpo.src='/cdn-cgi/challenge-platform/scripts/jsd/main.js',document.getElem\"\n",
            " b'entsByTagName(\\'head\\')[0].appendChild(_cpo);\";var _0xh = document.createE'\n",
            " b\"lement('iframe');_0xh.height = 1;_0xh.width = 1;_0xh.style.position = 'absol\"\n",
            " b\"ute';_0xh.style.top = 0;_0xh.style.left = 0;_0xh.style.border = 'none';_0xh.\"\n",
            " b\"style.visibility = 'hidden';document.body.appendChild(_0xh);function handler\"\n",
            " b'() {var _0xi = _0xh.contentDocument || _0xh.contentWindow.document;if (_0xi)'\n",
            " b\" {var _0xj = _0xi.createElement('script');_0xj.innerHTML = js;_0xi.getElemen\"\n",
            " b\"tsByTagName('head')[0].appendChild(_0xj);}}if (document.readyState !== 'load\"\n",
            " b\"ing') {handler();} else if (window.addEventListener) {document.addEventListe\"\n",
            " b\"ner('DOMContentLoaded', handler);} else {var prev = document.onreadystatecha\"\n",
            " b'nge || function () {};document.onreadystatechange = function (e) {prev(e);if'\n",
            " b\" (document.readyState !== 'loading') {document.onreadystatechange = prev;han\"\n",
            " b'dler();}};}})();</script><script defer src=\"https://static.cloudflareinsight'\n",
            " b's.com/beacon.min.js/v8b253dfea2ab4077af8c6f58422dfbfd1689876627854\" integrit'\n",
            " b'y=\"sha512-bjgnUKX4azu3dLTVtie9u6TKqgx29RBwfj3QXYt5EKfWM/9hPSAI/4qcV5NACjwAo8'\n",
            " b'UtTeWefx6Zq5PHcMm7Tg==\" data-cf-beacon=\\'{\"rayId\":\"805347f0cff57d1b\",\"ver'\n",
            " b'sion\":\"2023.8.0\",\"b\":1,\"token\":\"cf496d2888bc4f3faa91b36d93441851\",\"si\":1'\n",
            " b'00}\\' crossorigin=\"anonymous\"></script>\\n</body>\\n</html>\\n')\n"
          ]
        }
      ]
    },
    {
      "cell_type": "code",
      "execution_count": 98,
      "metadata": {
        "colab": {
          "base_uri": "https://localhost:8080/"
        },
        "id": "dcF-xPt98aOb",
        "outputId": "1d866ed9-e0c3-4176-e80b-3a2c5ce6f6bb"
      },
      "outputs": [
        {
          "output_type": "stream",
          "name": "stdout",
          "text": [
            "<!DOCTYPE html>\n",
            "<!--[if lt IE 7]> <html class=\"no-js ie6 oldie\" lang=\"en-US\"> <![endif]-->\n",
            "<!--[if IE 7]>    <html class=\"no-js ie7 oldie\" lang=\"en-US\"> <![endif]-->\n",
            "<!--[if IE 8]>    <html class=\"no-js ie8 oldie\" lang=\"en-US\"> <![endif]-->\n",
            "<!--[if gt IE 8]><!-->\n",
            "<html class=\"no-js\" lang=\"en-US\">\n",
            " <!--<![endif]-->\n",
            " <head>\n",
            "  <title>\n",
            "   Attention Required! | Cloudflare\n",
            "  </title>\n",
            "  <meta charset=\"utf-8\"/>\n",
            "  <meta content=\"text/html; charset=utf-8\" http-equiv=\"Content-Type\"/>\n",
            "  <meta content=\"IE=Edge\" http-equiv=\"X-UA-Compatible\"/>\n",
            "  <meta content=\"noindex, nofollow\" name=\"robots\"/>\n",
            "  <meta content=\"width=device-width,initial-scale=1\" name=\"viewport\"/>\n",
            "  <link href=\"/cdn-cgi/styles/cf.errors.css\" id=\"cf_styles-css\" rel=\"stylesheet\"/>\n",
            "  <!--[if lt IE 9]><link rel=\"stylesheet\" id='cf_styles-ie-css' href=\"/cdn-cgi/styles/cf.errors.ie.css\" /><![endif]-->\n",
            "  <style>\n",
            "   body{margin:0;padding:0}\n",
            "  </style>\n",
            "  <!--[if gte IE 10]><!-->\n",
            "  <script>\n",
            "   if (!navigator.cookieEnabled) {\n",
            "    window.addEventListener('DOMContentLoaded', function () {\n",
            "      var cookieEl = document.getElementById('cookie-alert');\n",
            "      cookieEl.style.display = 'block';\n",
            "    })\n",
            "  }\n",
            "  </script>\n",
            "  <!--<![endif]-->\n",
            " </head>\n",
            " <body>\n",
            "  <div id=\"cf-wrapper\">\n",
            "   <div class=\"cf-alert cf-alert-error cf-cookie-error\" data-translate=\"enable_cookies\" id=\"cookie-alert\">\n",
            "    Please enable cookies.\n",
            "   </div>\n",
            "   <div class=\"cf-error-details-wrapper\" id=\"cf-error-details\">\n",
            "    <div class=\"cf-wrapper cf-header cf-error-overview\">\n",
            "     <h1 data-translate=\"block_headline\">\n",
            "      Sorry, you have been blocked\n",
            "     </h1>\n",
            "     <h2 class=\"cf-subheadline\">\n",
            "      <span data-translate=\"unable_to_access\">\n",
            "       You are unable to access\n",
            "      </span>\n",
            "      getapp.com\n",
            "     </h2>\n",
            "    </div>\n",
            "    <!-- /.header -->\n",
            "    <div class=\"cf-section cf-highlight\">\n",
            "     <div class=\"cf-wrapper\">\n",
            "      <div class=\"cf-screenshot-container cf-screenshot-full\">\n",
            "       <span class=\"cf-no-screenshot error\">\n",
            "       </span>\n",
            "      </div>\n",
            "     </div>\n",
            "    </div>\n",
            "    <!-- /.captcha-container -->\n",
            "    <div class=\"cf-section cf-wrapper\">\n",
            "     <div class=\"cf-columns two\">\n",
            "      <div class=\"cf-column\">\n",
            "       <h2 data-translate=\"blocked_why_headline\">\n",
            "        Why have I been blocked?\n",
            "       </h2>\n",
            "       <p data-translate=\"blocked_why_detail\">\n",
            "        This website is using a security service to protect itself from online attacks. The action you just performed triggered the security solution. There are several actions that could trigger this block including submitting a certain word or phrase, a SQL command or malformed data.\n",
            "       </p>\n",
            "      </div>\n",
            "      <div class=\"cf-column\">\n",
            "       <h2 data-translate=\"blocked_resolve_headline\">\n",
            "        What can I do to resolve this?\n",
            "       </h2>\n",
            "       <p data-translate=\"blocked_resolve_detail\">\n",
            "        You can email the site owner to let them know you were blocked. Please include what you were doing when this page came up and the Cloudflare Ray ID found at the bottom of this page.\n",
            "       </p>\n",
            "      </div>\n",
            "     </div>\n",
            "    </div>\n",
            "    <!-- /.section -->\n",
            "    <div class=\"cf-error-footer cf-wrapper w-240 lg:w-full py-10 sm:py-4 sm:px-8 mx-auto text-center sm:text-left border-solid border-0 border-t border-gray-300\">\n",
            "     <p class=\"text-13\">\n",
            "      <span class=\"cf-footer-item sm:block sm:mb-1\">\n",
            "       Cloudflare Ray ID:\n",
            "       <strong class=\"font-semibold\">\n",
            "        805347f0cff57d1b\n",
            "       </strong>\n",
            "      </span>\n",
            "      <span class=\"cf-footer-separator sm:hidden\">\n",
            "       •\n",
            "      </span>\n",
            "      <span class=\"cf-footer-item hidden sm:block sm:mb-1\" id=\"cf-footer-item-ip\">\n",
            "       Your IP:\n",
            "       <button class=\"cf-footer-ip-reveal-btn\" id=\"cf-footer-ip-reveal\" type=\"button\">\n",
            "        Click to reveal\n",
            "       </button>\n",
            "       <span class=\"hidden\" id=\"cf-footer-ip\">\n",
            "        34.125.161.246\n",
            "       </span>\n",
            "       <span class=\"cf-footer-separator sm:hidden\">\n",
            "        •\n",
            "       </span>\n",
            "      </span>\n",
            "      <span class=\"cf-footer-item sm:block sm:mb-1\">\n",
            "       <span>\n",
            "        Performance &amp; security by\n",
            "       </span>\n",
            "       <a href=\"https://www.cloudflare.com/5xx-error-landing\" id=\"brand_link\" rel=\"noopener noreferrer\" target=\"_blank\">\n",
            "        Cloudflare\n",
            "       </a>\n",
            "      </span>\n",
            "     </p>\n",
            "     <script>\n",
            "      (function(){function d(){var b=a.getElementById(\"cf-footer-item-ip\"),c=a.getElementById(\"cf-footer-ip-reveal\");b&&\"classList\"in b&&(b.classList.remove(\"hidden\"),c.addEventListener(\"click\",function(){c.classList.add(\"hidden\");a.getElementById(\"cf-footer-ip\").classList.remove(\"hidden\")}))}var a=document;document.addEventListener&&a.addEventListener(\"DOMContentLoaded\",d)})();\n",
            "     </script>\n",
            "    </div>\n",
            "    <!-- /.error-footer -->\n",
            "   </div>\n",
            "   <!-- /#cf-error-details -->\n",
            "  </div>\n",
            "  <!-- /#cf-wrapper -->\n",
            "  <script>\n",
            "   window._cf_translation = {};\n",
            "  </script>\n",
            "  <script>\n",
            "   (function(){var js = \"window['__CF$cv$params']={r:'805347f0cff57d1b',t:'MTY5NDQ3MDY0OC40NDMwMDA='};_cpo=document.createElement('script');_cpo.nonce='',_cpo.src='/cdn-cgi/challenge-platform/scripts/jsd/main.js',document.getElementsByTagName('head')[0].appendChild(_cpo);\";var _0xh = document.createElement('iframe');_0xh.height = 1;_0xh.width = 1;_0xh.style.position = 'absolute';_0xh.style.top = 0;_0xh.style.left = 0;_0xh.style.border = 'none';_0xh.style.visibility = 'hidden';document.body.appendChild(_0xh);function handler() {var _0xi = _0xh.contentDocument || _0xh.contentWindow.document;if (_0xi) {var _0xj = _0xi.createElement('script');_0xj.innerHTML = js;_0xi.getElementsByTagName('head')[0].appendChild(_0xj);}}if (document.readyState !== 'loading') {handler();} else if (window.addEventListener) {document.addEventListener('DOMContentLoaded', handler);} else {var prev = document.onreadystatechange || function () {};document.onreadystatechange = function (e) {prev(e);if (document.readyState !== 'loading') {document.onreadystatechange = prev;handler();}};}})();\n",
            "  </script>\n",
            "  <script crossorigin=\"anonymous\" data-cf-beacon='{\"rayId\":\"805347f0cff57d1b\",\"version\":\"2023.8.0\",\"b\":1,\"token\":\"cf496d2888bc4f3faa91b36d93441851\",\"si\":100}' defer=\"\" integrity=\"sha512-bjgnUKX4azu3dLTVtie9u6TKqgx29RBwfj3QXYt5EKfWM/9hPSAI/4qcV5NACjwAo8UtTeWefx6Zq5PHcMm7Tg==\" src=\"https://static.cloudflareinsights.com/beacon.min.js/v8b253dfea2ab4077af8c6f58422dfbfd1689876627854\">\n",
            "  </script>\n",
            " </body>\n",
            "</html>\n",
            "\n"
          ]
        }
      ],
      "source": [
        "soup = BeautifulSoup(html, \"html.parser\")\n",
        "\n",
        "print(soup.prettify())"
      ]
    },
    {
      "cell_type": "markdown",
      "source": [
        "### GETTING USER NAME"
      ],
      "metadata": {
        "id": "THwpC_GiWnG5"
      }
    },
    {
      "cell_type": "code",
      "source": [
        "if response.status_code == 200:\n",
        "\n",
        "    # Parse the HTML content with BeautifulSoup\n",
        "    soup = BeautifulSoup(response.text, 'lxml')\n",
        "\n",
        "    # Define XPath\n",
        "    xpath = '//*[@id=\"reviewResults\"]/div[2]/div[2]/div/div/div[1]/div/div[1]/div/div[2]/p[2]'\n",
        "\n",
        "    # Use the find method with 'attrs' to find the element using the XPath\n",
        "    element = soup.find('div', attrs={'xpath': xpath})\n",
        "\n",
        "    # Extract the text content of the element\n",
        "    if element:\n",
        "        text_content = element.get_text()\n",
        "        print(text_content)\n",
        "    else:\n",
        "        print(\"Element not found\")\n",
        "else:\n",
        "    print(\"Failed to retrieve the webpage\")\n"
      ],
      "metadata": {
        "colab": {
          "base_uri": "https://localhost:8080/"
        },
        "id": "VbLnW3EJUNOp",
        "outputId": "a2e5ecf6-5aec-4278-a8b0-fc04722e9306"
      },
      "execution_count": 110,
      "outputs": [
        {
          "output_type": "stream",
          "name": "stdout",
          "text": [
            "Failed to retrieve the webpage\n"
          ]
        }
      ]
    },
    {
      "cell_type": "code",
      "source": [
        "if response.status_code == 200:\n",
        "\n",
        "    # Parse the HTML content with BeautifulSoup\n",
        "    soup = BeautifulSoup(response.text, 'html.parser')\n",
        "    element = soup.find_all('p', class_='Grid Grid_row__m5vnn')\n",
        "\n",
        "    # Extract the text content of the element\n",
        "    if element:\n",
        "        text_content = element.get_text()\n",
        "        print(text_content)\n",
        "    else:\n",
        "        print(\"Element not found\")\n",
        "else:\n",
        "    print(\"Failed to retrieve the webpage\")"
      ],
      "metadata": {
        "colab": {
          "base_uri": "https://localhost:8080/"
        },
        "id": "fkH9mI5TVYGx",
        "outputId": "4ae85d43-c331-4f22-e54a-9a9deb4abbba"
      },
      "execution_count": 111,
      "outputs": [
        {
          "output_type": "stream",
          "name": "stdout",
          "text": [
            "Failed to retrieve the webpage\n"
          ]
        }
      ]
    },
    {
      "cell_type": "markdown",
      "source": [
        "### GETTING SECTOR"
      ],
      "metadata": {
        "id": "jvD6xVfPW-P7"
      }
    },
    {
      "cell_type": "markdown",
      "source": [
        "### GETTING EMPLOYEES"
      ],
      "metadata": {
        "id": "ZXvnic6EW9iE"
      }
    }
  ],
  "metadata": {
    "colab": {
      "provenance": [],
      "include_colab_link": true
    },
    "kernelspec": {
      "display_name": "Python 3",
      "name": "python3"
    },
    "language_info": {
      "codemirror_mode": {
        "name": "ipython",
        "version": 3
      },
      "file_extension": ".py",
      "mimetype": "text/x-python",
      "name": "python",
      "nbconvert_exporter": "python",
      "pygments_lexer": "ipython3",
      "version": "3.11.3"
    }
  },
  "nbformat": 4,
  "nbformat_minor": 0
}