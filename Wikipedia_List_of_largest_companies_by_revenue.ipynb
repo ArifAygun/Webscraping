{
  "nbformat": 4,
  "nbformat_minor": 0,
  "metadata": {
    "colab": {
      "provenance": [],
      "authorship_tag": "ABX9TyNm9hhxQ66bnObHMSIUjnG/",
      "include_colab_link": true
    },
    "kernelspec": {
      "name": "python3",
      "display_name": "Python 3"
    },
    "language_info": {
      "name": "python"
    }
  },
  "cells": [
    {
      "cell_type": "markdown",
      "metadata": {
        "id": "view-in-github",
        "colab_type": "text"
      },
      "source": [
        "<a href=\"https://colab.research.google.com/github/ArifAygun/Webscraping/blob/main/Wikipedia_List_of_largest_companies_by_revenue.ipynb\" target=\"_parent\"><img src=\"https://colab.research.google.com/assets/colab-badge.svg\" alt=\"Open In Colab\"/></a>"
      ]
    },
    {
      "cell_type": "code",
      "execution_count": null,
      "metadata": {
        "id": "X1Ma99deP5BG"
      },
      "outputs": [],
      "source": [
        "from bs4 import BeautifulSoup\n",
        "import requests\n",
        "import pandas as pd"
      ]
    },
    {
      "cell_type": "code",
      "source": [
        "url = 'https://en.wikipedia.org/wiki/List_of_largest_companies_by_revenue'\n",
        "\n",
        "page = requests.get(url)"
      ],
      "metadata": {
        "id": "08N2QfzZQOlJ"
      },
      "execution_count": null,
      "outputs": []
    },
    {
      "cell_type": "code",
      "source": [
        "soup = BeautifulSoup(page.text, 'html')"
      ],
      "metadata": {
        "id": "hoBwl3lWR_o1"
      },
      "execution_count": null,
      "outputs": []
    },
    {
      "cell_type": "code",
      "source": [
        "print(soup)"
      ],
      "metadata": {
        "id": "PA8CjzmJSRKd"
      },
      "execution_count": null,
      "outputs": []
    },
    {
      "cell_type": "code",
      "source": [
        "#<table class=\"wikitable sortable jquery-tablesorter\">\n",
        "#<caption>"
      ],
      "metadata": {
        "id": "9pJRuXABY3ql"
      },
      "execution_count": null,
      "outputs": []
    },
    {
      "cell_type": "code",
      "source": [
        "soup.find('table', class_ = \"wikitable sortable\")"
      ],
      "metadata": {
        "id": "IFLLdFGtYG9K"
      },
      "execution_count": null,
      "outputs": []
    },
    {
      "cell_type": "code",
      "source": [],
      "metadata": {
        "id": "VvBmV4ZDbpYe"
      },
      "execution_count": null,
      "outputs": []
    },
    {
      "cell_type": "code",
      "source": [
        "soup.findAll('table')[0]\n",
        "#<table class=\"wikitable sortable jquery-tablesorter\">\n",
        "#<caption>"
      ],
      "metadata": {
        "id": "p06nz4Q8bqEA"
      },
      "execution_count": null,
      "outputs": []
    },
    {
      "cell_type": "code",
      "source": [
        "table = soup.findAll('table')[0]"
      ],
      "metadata": {
        "id": "eT9WAJnqbqEB"
      },
      "execution_count": null,
      "outputs": []
    },
    {
      "cell_type": "code",
      "source": [
        "print(table)"
      ],
      "metadata": {
        "id": "kdYtZ9Bmc0i6"
      },
      "execution_count": null,
      "outputs": []
    },
    {
      "cell_type": "code",
      "source": [
        "world_titles = soup.findAll('th')[:8]\n",
        "world_titles"
      ],
      "metadata": {
        "id": "bbLNYoHtdDZ5"
      },
      "execution_count": null,
      "outputs": []
    },
    {
      "cell_type": "code",
      "source": [
        "world_table_titles = [title.text.strip() for title in world_titles]\n",
        "\n",
        "print(world_table_titles)"
      ],
      "metadata": {
        "id": "02HkDvBLdftp"
      },
      "execution_count": null,
      "outputs": []
    },
    {
      "cell_type": "code",
      "source": [
        "world_titles = table.find_all('th')\n",
        "world_titles"
      ],
      "metadata": {
        "id": "ssNLuYxJtyN0"
      },
      "execution_count": null,
      "outputs": []
    },
    {
      "cell_type": "code",
      "source": [
        "world_table_titles = [title.text.strip() for title in world_titles]\n",
        "\n",
        "print(world_table_titles)"
      ],
      "metadata": {
        "id": "FF51ZAPduI0o"
      },
      "execution_count": null,
      "outputs": []
    },
    {
      "cell_type": "code",
      "source": [
        "df = pd.DataFrame(columns=world_table_titles)\n",
        "df"
      ],
      "metadata": {
        "id": "qgD6run4uINj"
      },
      "execution_count": null,
      "outputs": []
    }
  ]
}