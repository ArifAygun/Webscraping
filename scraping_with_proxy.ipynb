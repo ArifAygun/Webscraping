{
  "nbformat": 4,
  "nbformat_minor": 0,
  "metadata": {
    "colab": {
      "provenance": [],
      "authorship_tag": "ABX9TyNPgtlh7uxzJmEDC+jz5uJF",
      "include_colab_link": true
    },
    "kernelspec": {
      "name": "python3",
      "display_name": "Python 3"
    },
    "language_info": {
      "name": "python"
    }
  },
  "cells": [
    {
      "cell_type": "markdown",
      "metadata": {
        "id": "view-in-github",
        "colab_type": "text"
      },
      "source": [
        "<a href=\"https://colab.research.google.com/github/ArifAygun/Webscraping/blob/main/scraping_with_proxy.ipynb\" target=\"_parent\"><img src=\"https://colab.research.google.com/assets/colab-badge.svg\" alt=\"Open In Colab\"/></a>"
      ]
    },
    {
      "cell_type": "code",
      "source": [
        "from google.colab import drive\n",
        "drive.mount('/content/drive/')\n",
        "%cd /content/drive/My Drive/Web_Scraping/Techcrunch/"
      ],
      "metadata": {
        "colab": {
          "base_uri": "https://localhost:8080/"
        },
        "id": "Rw1dm5M9ZMox",
        "outputId": "0138dee2-1096-48e7-8087-56e2f4d16eb5"
      },
      "execution_count": 22,
      "outputs": [
        {
          "output_type": "stream",
          "name": "stdout",
          "text": [
            "Drive already mounted at /content/drive/; to attempt to forcibly remount, call drive.mount(\"/content/drive/\", force_remount=True).\n",
            "/content/drive/My Drive/Web_Scraping/Techcrunch\n"
          ]
        }
      ]
    },
    {
      "cell_type": "code",
      "execution_count": 24,
      "metadata": {
        "id": "exlljjWifLWA"
      },
      "outputs": [],
      "source": [
        "import bs4\n",
        "import pandas as pd\n",
        "import numpy as np\n",
        "import requests\n",
        "from bs4 import BeautifulSoup\n",
        "from pprint import pprint\n",
        "import re\n",
        "import matplotlib.pyplot as plt"
      ]
    },
    {
      "cell_type": "code",
      "source": [
        "BASE_URL = 'https://books.toscrape.com/'\n",
        "\n",
        "url = BASE_URL + 'catalogue/category/books/mystery_3/index.html'\n",
        "\n",
        "response = requests.get(url)\n",
        "\n",
        "soup = BeautifulSoup(response.text, 'lxml')"
      ],
      "metadata": {
        "id": "JHbVEkDLkO1J"
      },
      "execution_count": 30,
      "outputs": []
    },
    {
      "cell_type": "code",
      "source": [
        "print(soup)"
      ],
      "metadata": {
        "id": "Dw54GtWblgCA"
      },
      "execution_count": null,
      "outputs": []
    },
    {
      "cell_type": "code",
      "source": [
        "print(soup.find_all('p'))"
      ],
      "metadata": {
        "id": "GaHe9qjflwtR"
      },
      "execution_count": null,
      "outputs": []
    },
    {
      "cell_type": "code",
      "source": [
        "print(soup.find_all('a'))"
      ],
      "metadata": {
        "id": "LKcZoXPZmDau"
      },
      "execution_count": null,
      "outputs": []
    },
    {
      "cell_type": "code",
      "source": [
        "price_tag = soup.find_all('p', {'class': 'price_color'})\n",
        "\n",
        "print(price_tag)"
      ],
      "metadata": {
        "colab": {
          "base_uri": "https://localhost:8080/"
        },
        "id": "12lCplgNmouF",
        "outputId": "739e85e3-62b9-434b-ae5b-527805f494ff"
      },
      "execution_count": 32,
      "outputs": [
        {
          "output_type": "stream",
          "name": "stdout",
          "text": [
            "[<p class=\"price_color\">Â£47.82</p>, <p class=\"price_color\">Â£19.63</p>, <p class=\"price_color\">Â£56.50</p>, <p class=\"price_color\">Â£16.64</p>, <p class=\"price_color\">Â£44.10</p>, <p class=\"price_color\">Â£54.21</p>, <p class=\"price_color\">Â£13.92</p>, <p class=\"price_color\">Â£10.69</p>, <p class=\"price_color\">Â£48.35</p>, <p class=\"price_color\">Â£16.73</p>, <p class=\"price_color\">Â£26.80</p>, <p class=\"price_color\">Â£54.36</p>, <p class=\"price_color\">Â£35.28</p>, <p class=\"price_color\">Â£11.84</p>, <p class=\"price_color\">Â£59.48</p>, <p class=\"price_color\">Â£27.26</p>, <p class=\"price_color\">Â£13.71</p>, <p class=\"price_color\">Â£25.37</p>, <p class=\"price_color\">Â£52.30</p>, <p class=\"price_color\">Â£20.89</p>]\n"
          ]
        }
      ]
    },
    {
      "cell_type": "code",
      "source": [
        "import requests\n",
        "import urllib\n",
        "from bs4 import BeautifulSoup\n",
        "import pandas as pd\n",
        "import numpy as np\n",
        "import re\n",
        "import matplotlib.pyplot as plt\n",
        "\n",
        "### WEB SCRAPPER - hepsiburada ###\n",
        "\n",
        "# Build a string the main URL, search term, and location\n",
        "def get_url(query):\n",
        "    url = 'https://www.startupranking.com/'\n",
        "    query = '' + urllib.parse.quote_plus(query)\n",
        "    url += query\n",
        "    return url\n",
        "\n",
        "# Request HMTL from URL, create and return a SOUP object with it\n",
        "def get_soup(url):\n",
        "    headers = {'Mozilla/5.0 (Macintosh; Intel Mac OS X 10_15_7) AppleWebKit/537.36 (KHTML, like Gecko) Chrome/116.0.0.0 Safari/537.36'}\n",
        "    page = requests.get(url, headers=headers)\n",
        "    return BeautifulSoup(page.content, 'html.parser')"
      ],
      "metadata": {
        "id": "uLaSJ-EOfRWI"
      },
      "execution_count": 18,
      "outputs": []
    },
    {
      "cell_type": "code",
      "execution_count": 19,
      "metadata": {
        "colab": {
          "base_uri": "https://localhost:8080/"
        },
        "id": "V5v7H-i9Va3u",
        "outputId": "56922a1e-b9f4-4dbe-c8e6-63360b95feab"
      },
      "outputs": [
        {
          "output_type": "execute_result",
          "data": {
            "text/plain": [
              "<Response [403]>"
            ]
          },
          "metadata": {},
          "execution_count": 19
        }
      ],
      "source": [
        "url = 'https://www.startupranking.com/'\n",
        "response = requests.get(url)\n",
        "response"
      ]
    }
  ]
}