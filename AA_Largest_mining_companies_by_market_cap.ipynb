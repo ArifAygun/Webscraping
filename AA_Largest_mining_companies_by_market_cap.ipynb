{
  "nbformat": 4,
  "nbformat_minor": 0,
  "metadata": {
    "colab": {
      "provenance": [],
      "authorship_tag": "ABX9TyOitzl3ZLemYFGZiQMiMeZL",
      "include_colab_link": true
    },
    "kernelspec": {
      "name": "python3",
      "display_name": "Python 3"
    },
    "language_info": {
      "name": "python"
    }
  },
  "cells": [
    {
      "cell_type": "markdown",
      "metadata": {
        "id": "view-in-github",
        "colab_type": "text"
      },
      "source": [
        "<a href=\"https://colab.research.google.com/github/ArifAygun/Webscraping/blob/main/AA_Largest_mining_companies_by_market_cap.ipynb\" target=\"_parent\"><img src=\"https://colab.research.google.com/assets/colab-badge.svg\" alt=\"Open In Colab\"/></a>"
      ]
    },
    {
      "cell_type": "code",
      "source": [
        "from google.colab import drive\n",
        "drive.mount('/content/drive/')\n",
        "%cd /content/drive/My Drive/Web_Scraping/"
      ],
      "metadata": {
        "colab": {
          "base_uri": "https://localhost:8080/"
        },
        "id": "2tN0INOD6w2w",
        "outputId": "c5d3d628-786f-4e72-a2c7-967c8f601351"
      },
      "execution_count": 115,
      "outputs": [
        {
          "output_type": "stream",
          "name": "stdout",
          "text": [
            "Drive already mounted at /content/drive/; to attempt to forcibly remount, call drive.mount(\"/content/drive/\", force_remount=True).\n",
            "/content/drive/My Drive/Web_Scraping\n"
          ]
        }
      ]
    },
    {
      "cell_type": "code",
      "execution_count": 116,
      "metadata": {
        "id": "exlljjWifLWA"
      },
      "outputs": [],
      "source": [
        "import pandas as pd\n",
        "import requests\n",
        "from bs4 import BeautifulSoup\n",
        "from pprint import pprint"
      ]
    },
    {
      "cell_type": "code",
      "execution_count": 117,
      "metadata": {
        "id": "_f60pkfHfLWE",
        "colab": {
          "base_uri": "https://localhost:8080/"
        },
        "outputId": "79ca2faf-4c34-441b-fe1d-50c942a2addb"
      },
      "outputs": [
        {
          "output_type": "execute_result",
          "data": {
            "text/plain": [
              "<Response [200]>"
            ]
          },
          "metadata": {},
          "execution_count": 117
        }
      ],
      "source": [
        "base_site = 'https://companiesmarketcap.com/mining/largest-mining-companies-by-market-cap/'\n",
        "response = requests.get(base_site)\n",
        "response"
      ]
    },
    {
      "cell_type": "code",
      "execution_count": null,
      "metadata": {
        "id": "E4GMxAHIfLWF"
      },
      "outputs": [],
      "source": [
        "html = response.content\n",
        "pprint(html)"
      ]
    },
    {
      "cell_type": "code",
      "execution_count": null,
      "metadata": {
        "id": "y4xscivafLWG"
      },
      "outputs": [],
      "source": [
        "soup = BeautifulSoup(html, \"html.parser\")\n",
        "soup"
      ]
    },
    {
      "cell_type": "code",
      "execution_count": null,
      "metadata": {
        "collapsed": true,
        "jupyter": {
          "outputs_hidden": true
        },
        "id": "iAHgvxgxfLWR"
      },
      "outputs": [],
      "source": [
        "soup.find('head')"
      ]
    },
    {
      "cell_type": "code",
      "execution_count": 121,
      "metadata": {
        "id": "WKEmws1YfLWR",
        "colab": {
          "base_uri": "https://localhost:8080/",
          "height": 35
        },
        "outputId": "8b78449d-9962-462a-ba93-d4994fc50afc"
      },
      "outputs": [
        {
          "output_type": "execute_result",
          "data": {
            "text/plain": [
              "'Largest mining companies by market cap'"
            ],
            "application/vnd.google.colaboratory.intrinsic+json": {
              "type": "string"
            }
          },
          "metadata": {},
          "execution_count": 121
        }
      ],
      "source": [
        "soup.find('title').text"
      ]
    },
    {
      "cell_type": "code",
      "source": [
        "table = soup.find_all('table')\n",
        "\n",
        "print(table)"
      ],
      "metadata": {
        "id": "8yASDqOiEtAe"
      },
      "execution_count": null,
      "outputs": []
    },
    {
      "cell_type": "code",
      "source": [
        "soup.find('table', class_ = \"table-container shadow\")"
      ],
      "metadata": {
        "id": "9NPtfcCLE9fq"
      },
      "execution_count": 123,
      "outputs": []
    },
    {
      "cell_type": "markdown",
      "source": [
        "Getting Titles of Table with ``th`` tag"
      ],
      "metadata": {
        "id": "hvYlct_MS8wD"
      }
    },
    {
      "cell_type": "code",
      "source": [
        "soup.find_all('th')"
      ],
      "metadata": {
        "colab": {
          "base_uri": "https://localhost:8080/"
        },
        "id": "zbODEVXTTEqh",
        "outputId": "c33baaaf-cff9-4a75-c909-8c5fb153c776"
      },
      "execution_count": 124,
      "outputs": [
        {
          "output_type": "execute_result",
          "data": {
            "text/plain": [
              "[<th class=\"th-id-1 th-rank sorting sorting_asc\" tid=\"1\">Rank</th>,\n",
              " <th class=\"th-id-2 th-name sorting\" tid=\"2\">Name</th>,\n",
              " <th class=\"th-id-3 th-mcap sorting text-right\" tid=\"3\">Market Cap</th>,\n",
              " <th class=\"th-id-4 th-price sorting text-right\" tid=\"4\">Price</th>,\n",
              " <th class=\"th-id-5 th-1d sorting rh-sm\" tid=\"5\">Today</th>,\n",
              " <th class=\"th-id-6 th-30d no-sort\" tid=\"6\">Price (30 days)</th>,\n",
              " <th class=\"th-id-7 th-country sorting\" tid=\"7\">Country</th>]"
            ]
          },
          "metadata": {},
          "execution_count": 124
        }
      ]
    },
    {
      "cell_type": "code",
      "source": [
        "titles = soup.find_all('th')"
      ],
      "metadata": {
        "id": "hhKocfdbTgdi"
      },
      "execution_count": 125,
      "outputs": []
    },
    {
      "cell_type": "code",
      "source": [
        "table_titles = [title.text.strip() for title in titles]\n",
        "\n",
        "print(table_titles)"
      ],
      "metadata": {
        "colab": {
          "base_uri": "https://localhost:8080/"
        },
        "id": "o0b5wjwBT-TN",
        "outputId": "b5f0c019-6972-483e-d1d6-e30ece68211f"
      },
      "execution_count": 126,
      "outputs": [
        {
          "output_type": "stream",
          "name": "stdout",
          "text": [
            "['Rank', 'Name', 'Market Cap', 'Price', 'Today', 'Price (30 days)', 'Country']\n"
          ]
        }
      ]
    },
    {
      "cell_type": "code",
      "source": [
        "df = pd.DataFrame(columns= table_titles)\n",
        "df"
      ],
      "metadata": {
        "colab": {
          "base_uri": "https://localhost:8080/",
          "height": 53
        },
        "id": "m1tM3v8dVpXZ",
        "outputId": "f8bc5bcb-704e-428c-f337-465f96a44ed0"
      },
      "execution_count": 127,
      "outputs": [
        {
          "output_type": "execute_result",
          "data": {
            "text/plain": [
              "Empty DataFrame\n",
              "Columns: [Rank, Name, Market Cap, Price, Today, Price (30 days), Country]\n",
              "Index: []"
            ],
            "text/html": [
              "\n",
              "  <div id=\"df-18d835d6-d9a8-4ab4-bc55-1f829c3ee653\" class=\"colab-df-container\">\n",
              "    <div>\n",
              "<style scoped>\n",
              "    .dataframe tbody tr th:only-of-type {\n",
              "        vertical-align: middle;\n",
              "    }\n",
              "\n",
              "    .dataframe tbody tr th {\n",
              "        vertical-align: top;\n",
              "    }\n",
              "\n",
              "    .dataframe thead th {\n",
              "        text-align: right;\n",
              "    }\n",
              "</style>\n",
              "<table border=\"1\" class=\"dataframe\">\n",
              "  <thead>\n",
              "    <tr style=\"text-align: right;\">\n",
              "      <th></th>\n",
              "      <th>Rank</th>\n",
              "      <th>Name</th>\n",
              "      <th>Market Cap</th>\n",
              "      <th>Price</th>\n",
              "      <th>Today</th>\n",
              "      <th>Price (30 days)</th>\n",
              "      <th>Country</th>\n",
              "    </tr>\n",
              "  </thead>\n",
              "  <tbody>\n",
              "  </tbody>\n",
              "</table>\n",
              "</div>\n",
              "    <div class=\"colab-df-buttons\">\n",
              "\n",
              "  <div class=\"colab-df-container\">\n",
              "    <button class=\"colab-df-convert\" onclick=\"convertToInteractive('df-18d835d6-d9a8-4ab4-bc55-1f829c3ee653')\"\n",
              "            title=\"Convert this dataframe to an interactive table.\"\n",
              "            style=\"display:none;\">\n",
              "\n",
              "  <svg xmlns=\"http://www.w3.org/2000/svg\" height=\"24px\" viewBox=\"0 -960 960 960\">\n",
              "    <path d=\"M120-120v-720h720v720H120Zm60-500h600v-160H180v160Zm220 220h160v-160H400v160Zm0 220h160v-160H400v160ZM180-400h160v-160H180v160Zm440 0h160v-160H620v160ZM180-180h160v-160H180v160Zm440 0h160v-160H620v160Z\"/>\n",
              "  </svg>\n",
              "    </button>\n",
              "\n",
              "  <style>\n",
              "    .colab-df-container {\n",
              "      display:flex;\n",
              "      gap: 12px;\n",
              "    }\n",
              "\n",
              "    .colab-df-convert {\n",
              "      background-color: #E8F0FE;\n",
              "      border: none;\n",
              "      border-radius: 50%;\n",
              "      cursor: pointer;\n",
              "      display: none;\n",
              "      fill: #1967D2;\n",
              "      height: 32px;\n",
              "      padding: 0 0 0 0;\n",
              "      width: 32px;\n",
              "    }\n",
              "\n",
              "    .colab-df-convert:hover {\n",
              "      background-color: #E2EBFA;\n",
              "      box-shadow: 0px 1px 2px rgba(60, 64, 67, 0.3), 0px 1px 3px 1px rgba(60, 64, 67, 0.15);\n",
              "      fill: #174EA6;\n",
              "    }\n",
              "\n",
              "    .colab-df-buttons div {\n",
              "      margin-bottom: 4px;\n",
              "    }\n",
              "\n",
              "    [theme=dark] .colab-df-convert {\n",
              "      background-color: #3B4455;\n",
              "      fill: #D2E3FC;\n",
              "    }\n",
              "\n",
              "    [theme=dark] .colab-df-convert:hover {\n",
              "      background-color: #434B5C;\n",
              "      box-shadow: 0px 1px 3px 1px rgba(0, 0, 0, 0.15);\n",
              "      filter: drop-shadow(0px 1px 2px rgba(0, 0, 0, 0.3));\n",
              "      fill: #FFFFFF;\n",
              "    }\n",
              "  </style>\n",
              "\n",
              "    <script>\n",
              "      const buttonEl =\n",
              "        document.querySelector('#df-18d835d6-d9a8-4ab4-bc55-1f829c3ee653 button.colab-df-convert');\n",
              "      buttonEl.style.display =\n",
              "        google.colab.kernel.accessAllowed ? 'block' : 'none';\n",
              "\n",
              "      async function convertToInteractive(key) {\n",
              "        const element = document.querySelector('#df-18d835d6-d9a8-4ab4-bc55-1f829c3ee653');\n",
              "        const dataTable =\n",
              "          await google.colab.kernel.invokeFunction('convertToInteractive',\n",
              "                                                    [key], {});\n",
              "        if (!dataTable) return;\n",
              "\n",
              "        const docLinkHtml = 'Like what you see? Visit the ' +\n",
              "          '<a target=\"_blank\" href=https://colab.research.google.com/notebooks/data_table.ipynb>data table notebook</a>'\n",
              "          + ' to learn more about interactive tables.';\n",
              "        element.innerHTML = '';\n",
              "        dataTable['output_type'] = 'display_data';\n",
              "        await google.colab.output.renderOutput(dataTable, element);\n",
              "        const docLink = document.createElement('div');\n",
              "        docLink.innerHTML = docLinkHtml;\n",
              "        element.appendChild(docLink);\n",
              "      }\n",
              "    </script>\n",
              "  </div>\n",
              "\n",
              "    </div>\n",
              "  </div>\n"
            ]
          },
          "metadata": {},
          "execution_count": 127
        }
      ]
    },
    {
      "cell_type": "markdown",
      "source": [
        "Getting Rows of Table With ``tr`` tag"
      ],
      "metadata": {
        "id": "QVlS0I0pWi_d"
      }
    },
    {
      "cell_type": "code",
      "source": [
        "column_data = soup.find_all('tr')\n",
        "column_data"
      ],
      "metadata": {
        "colab": {
          "base_uri": "https://localhost:8080/"
        },
        "id": "1A2aNUS6WBry",
        "outputId": "73e219b3-0a55-4090-bf32-623d8c93243a"
      },
      "execution_count": 128,
      "outputs": [
        {
          "output_type": "execute_result",
          "data": {
            "text/plain": [
              "[<tr><th class=\"th-id-1 th-rank sorting sorting_asc\" tid=\"1\">Rank</th><th class=\"th-id-2 th-name sorting\" tid=\"2\">Name</th><th class=\"th-id-3 th-mcap sorting text-right\" tid=\"3\">Market Cap</th><th class=\"th-id-4 th-price sorting text-right\" tid=\"4\">Price</th><th class=\"th-id-5 th-1d sorting rh-sm\" tid=\"5\">Today</th><th class=\"th-id-6 th-30d no-sort\" tid=\"6\">Price (30 days)</th><th class=\"th-id-7 th-country sorting\" tid=\"7\">Country</th></tr>]"
            ]
          },
          "metadata": {},
          "execution_count": 128
        }
      ]
    },
    {
      "cell_type": "code",
      "source": [
        "for row in column_data:\n",
        "  row_data = row.find_all('td')\n",
        "  individual_row_data = [data.text.strip() for data in row_data]\n",
        "\n",
        "  print(individual_row_data)\n",
        ""
      ],
      "metadata": {
        "colab": {
          "base_uri": "https://localhost:8080/"
        },
        "id": "7jq55WdBX2NC",
        "outputId": "c86fd399-74a0-469e-c55c-8a4d129787e7"
      },
      "execution_count": 129,
      "outputs": [
        {
          "output_type": "stream",
          "name": "stdout",
          "text": [
            "[]\n"
          ]
        }
      ]
    }
  ]
}