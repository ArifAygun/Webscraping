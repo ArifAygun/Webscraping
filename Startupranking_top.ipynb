{
  "nbformat": 4,
  "nbformat_minor": 0,
  "metadata": {
    "colab": {
      "provenance": [],
      "authorship_tag": "ABX9TyOsPcLd21BgChGBU7nt6cy9",
      "include_colab_link": true
    },
    "kernelspec": {
      "name": "python3",
      "display_name": "Python 3"
    },
    "language_info": {
      "name": "python"
    }
  },
  "cells": [
    {
      "cell_type": "markdown",
      "metadata": {
        "id": "view-in-github",
        "colab_type": "text"
      },
      "source": [
        "<a href=\"https://colab.research.google.com/github/ArifAygun/Webscraping/blob/main/Startupranking_top.ipynb\" target=\"_parent\"><img src=\"https://colab.research.google.com/assets/colab-badge.svg\" alt=\"Open In Colab\"/></a>"
      ]
    },
    {
      "cell_type": "code",
      "execution_count": 1,
      "metadata": {
        "colab": {
          "base_uri": "https://localhost:8080/"
        },
        "id": "V8f7kDpnmlBS",
        "outputId": "f144b3b4-e8a9-4338-a505-7f3c6efc8f19"
      },
      "outputs": [
        {
          "output_type": "stream",
          "name": "stdout",
          "text": [
            "Failed to fetch the webpage. Status code: 403\n"
          ]
        }
      ],
      "source": [
        "import requests\n",
        "from bs4 import BeautifulSoup\n",
        "\n",
        "url = 'https://www.startupranking.com/'\n",
        "\n",
        "response = requests.get(url)\n",
        "\n",
        "if response.status_code == 200:\n",
        "    soup = BeautifulSoup(response.text, 'html.parser')\n",
        "    results = []\n",
        "\n",
        "    table = soup.select_one('body > div.wrapper.container > section:nth-child(1) > table > tbody')\n",
        "\n",
        "    if table:\n",
        "        rows = table.find_all('tr')[:10]  # Capture first 10 ranks from startups\n",
        "\n",
        "        for row in rows:\n",
        "            rank = row.select_one('td:nth-of-type(1)').text.strip()\n",
        "            name = row.select_one('td:nth-of-type(2) div:nth-of-type(2)').text.strip()\n",
        "            score = row.select_one('td:nth-of-type(3)').text.strip()\n",
        "            description = row.select_one('td:nth-of-type(4)').text.strip()\n",
        "            country_image = row.select_one('td:nth-of-type(5) a:nth-of-type(1) img:nth-of-type(1)')\n",
        "            country_name = country_image['title'].strip() if country_image else \"\"\n",
        "\n",
        "            result_json = {\n",
        "                'rank': rank,\n",
        "                'name': name,\n",
        "                'score': score,\n",
        "                'description': description,\n",
        "                'country': country_name\n",
        "            }\n",
        "            results.append(result_json)\n",
        "\n",
        "        print(\"RANKINGS\", results)\n",
        "    else:\n",
        "        print(\"Table not found on the page.\")\n",
        "else:\n",
        "    print(\"Failed to fetch the webpage. Status code:\", response.status_code)\n"
      ]
    },
    {
      "cell_type": "code",
      "source": [
        "import requests\n",
        "from bs4 import BeautifulSoup\n",
        "\n",
        "url = 'https://www.startupranking.com/'\n",
        "\n",
        "headers = {\n",
        "    'User-Agent': 'Mozilla/5.0 (Windows NT 10.0; Win64; x64) AppleWebKit/537.36 (KHTML, like Gecko) Chrome/94.0.4606.81 Safari/537.36'\n",
        "}\n",
        "\n",
        "response = requests.get(url, headers=headers)\n",
        "\n",
        "if response.status_code == 200:\n",
        "    soup = BeautifulSoup(response.text, 'html.parser')\n",
        "    results = []\n",
        "\n",
        "    table = soup.select_one('body > div.wrapper.container > section:nth-child(1) > table > tbody')\n",
        "\n",
        "    if table:\n",
        "        rows = table.find_all('tr')[:10]  # Capture first 10 ranks from startups\n",
        "\n",
        "        for row in rows:\n",
        "            rank = row.select_one('td:nth-of-type(1)').text.strip()\n",
        "            name = row.select_one('td:nth-of-type(2) div:nth-of-type(2)').text.strip()\n",
        "            score = row.select_one('td:nth-of-type(3)').text.strip()\n",
        "            description = row.select_one('td:nth-of-type(4)').text.strip()\n",
        "            country_image = row.select_one('td:nth-of-type(5) a:nth-of-type(1) img:nth-of-type(1)')\n",
        "            country_name = country_image['title'].strip() if country_image else \"\"\n",
        "\n",
        "            result_json = {\n",
        "                'rank': rank,\n",
        "                'name': name,\n",
        "                'score': score,\n",
        "                'description': description,\n",
        "                'country': country_name\n",
        "            }\n",
        "            results.append(result_json)\n",
        "\n",
        "        print(\"RANKINGS\", results)\n",
        "    else:\n",
        "        print(\"Table not found on the page.\")\n",
        "else:\n",
        "    print(\"Failed to fetch the webpage. Status code:\", response.status_code)\n"
      ],
      "metadata": {
        "colab": {
          "base_uri": "https://localhost:8080/"
        },
        "id": "033-AcyysFNy",
        "outputId": "c0f27eed-347f-4d4f-b93b-a3d1e53a66ab"
      },
      "execution_count": 3,
      "outputs": [
        {
          "output_type": "stream",
          "name": "stdout",
          "text": [
            "RANKINGS [{'rank': '1', 'name': 'GitLab', 'score': '89,496', 'description': 'Code, test, and deploy together\\n                         -                                         GitLab is an open-source code collaboration platfo ...', 'country': 'Netherlands'}, {'rank': '2', 'name': 'Telegram', 'score': '88,833', 'description': \"A new era of messaging\\n                         -                                         Telegram is the world's fastest and most secure me ...\", 'country': 'Russia'}, {'rank': '3', 'name': 'Cutt.ly', 'score': '87,113', 'description': \"Free custom URL shortener\\n                         -                                         Don't let the links limit you. Make your links sup ...\", 'country': 'India'}, {'rank': '4', 'name': 'Revolut', 'score': '86,302', 'description': 'Beyond banking.\\n                         -                                         A secure, mobile-based current account that allows ...', 'country': 'United Kingdom'}, {'rank': '5', 'name': 'Tilda Publishing', 'score': '86,059', 'description': 'Build beautiful websites and tell stories online\\n                         -                                         Tilda helps you build websites for business and me ...', 'country': 'France'}, {'rank': '6', 'name': 'W3Schools', 'score': '85,993', 'description': \"The world's largest web developer site\\n                         -                                         W3Schools offers free web building tutorials. At W ...\", 'country': 'India'}, {'rank': '7', 'name': 'pCloud', 'score': '85,795', 'description': 'pCloud is a provides cloud storage solutions for personal and business consumers.\\n                         -                                         pCloud - It is your Personal or Professional cloud ...', 'country': 'Bulgaria'}, {'rank': '8', 'name': 'HotJar', 'score': '85,758', 'description': 'See how visitors are really using your website\\n                         -                                         HotJar is a powerful tool that offers deep insight ...', 'country': 'United States'}, {'rank': '9', 'name': 'Smallpdf', 'score': '85,728', 'description': 'The first PDF software you will actually like.', 'country': 'Switzerland'}, {'rank': '10', 'name': 'Bark.com', 'score': '85,533', 'description': \"Bringing buyers and sellers together\\n                         -                                         Bark.com - Whatever you're looking for, from web d ...\", 'country': 'United Kingdom'}]\n"
          ]
        }
      ]
    }
  ]
}